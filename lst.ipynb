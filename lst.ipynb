{
 "cells": [
  {
   "cell_type": "markdown",
   "metadata": {},
   "source": [
    "# IBM Quantum Experience Lab - Lab script"
   ]
  },
  {
   "cell_type": "markdown",
   "metadata": {},
   "source": [
    "Please use this notebook as a template for the work that you will submit for assessment for this lab exercise.\n",
    "\n",
    "Student Names: *Sara Cender, Eleanor Kneip, Stasiu Wolanski*"
   ]
  },
  {
   "cell_type": "code",
   "execution_count": null,
   "metadata": {},
   "outputs": [
    {
     "name": "stdout",
     "output_type": "stream",
     "text": [
      "env: QXToken=656a2556246117cd382fba4bb957892cece054dad6a3102c567c2ef3ccd03b436e78e3c0529582e760cce684ff1c2c60b2e25ac01bd320e043db27d995a09f6f\n"
     ]
    }
   ],
   "source": [
    "from qiskit import QuantumRegister, ClassicalRegister, QuantumCircuit\n",
    "from qiskit.circuit.library import UnitaryGate\n",
    "from qiskit_aer import AerSimulator\n",
    "from qiskit.quantum_info import Operator, Pauli, Statevector, SparsePauliOp\n",
    "from qiskit_ibm_runtime import EstimatorV2 as Estimator\n",
    "from qiskit_ibm_runtime import QiskitRuntimeService, Session, Sampler\n",
    "import numpy as np\n",
    "\n",
    "%set_env QXToken=656a2556246117cd382fba4bb957892cece054dad6a3102c567c2ef3ccd03b436e78e3c0529582e760cce684ff1c2c60b2e25ac01bd320e043db27d995a09f6f\n",
    "\n",
    "\n"
   ]
  },
  {
   "cell_type": "markdown",
   "metadata": {
    "tags": []
   },
   "source": [
    "## Warm up exercise"
   ]
  },
  {
   "cell_type": "code",
   "execution_count": null,
   "metadata": {},
   "outputs": [],
   "source": [
    "def z_expected_value(qc: QuantumCircuit, true_expected_value: float, real_device = False):\n",
    "    \"\"\"Calculate expectation of Z, using Aer simulator.\"\"\"\n",
    "    if not real_device:\n",
    "        shots = 1_000_000\n",
    "        backend = AerSimulator()\n",
    "        job = backend.run(qc, shots=shots)\n",
    "        result = job.result()\n",
    "        counts = result.get_counts()\n",
    "\n",
    "    else:\n",
    "        # Initialize runtime service\n",
    "        service = QiskitRuntimeService(channel=\"ibm_quantum\", token = '656a2556246117cd382fba4bb957892cece054dad6a3102c567c2ef3ccd03b436e78e3c0529582e760cce684ff1c2c60b2e25ac01bd320e043db27d995a09f6f')\n",
    "        # Choose backend (example: least busy backend with 1+ qubit)\n",
    "        backend = service.least_busy(operational=True, min_num_qubits=1)\n",
    "\n",
    "        sampler = Sampler(mode=backend)\n",
    "        job = sampler.run([qc], shots=1000)\n",
    "        result = job.result()\n",
    "        counts = result.quasi_dists[0]\n",
    "\n",
    "    # Calculate expectation value of Z\n",
    "    expectation_Z = (counts.get('0', 0) - counts.get('1', 0)) / shots\n",
    "    print(f\"Expectation value of Z: {expectation_Z}\")\n",
    "\n",
    "    print(f\"expected error is {2*np.sqrt(counts.get('0', 0) * counts.get('1', 0) / shots**3):.1e}\")\n",
    "    print(f\"actual error is {np.abs(expectation_Z - true_expected_value):.1e}\")\n",
    "    "
   ]
  },
  {
   "cell_type": "code",
   "execution_count": 59,
   "metadata": {},
   "outputs": [
    {
     "ename": "ValueError",
     "evalue": "An invalid Sampler pub-like was given (<class 'qiskit._accelerate.circuit.CircuitInstruction'>). If you want to run a single circuit, you need to wrap it with `[]` like `sampler.run([circuit])` instead of `sampler.run(circuit)`.",
     "output_type": "error",
     "traceback": [
      "\u001b[0;31m---------------------------------------------------------------------------\u001b[0m",
      "\u001b[0;31mValueError\u001b[0m                                Traceback (most recent call last)",
      "Cell \u001b[0;32mIn[59], line 8\u001b[0m\n\u001b[1;32m      5\u001b[0m qc\u001b[38;5;241m.\u001b[39mh([\u001b[38;5;241m0\u001b[39m])\n\u001b[1;32m      6\u001b[0m qc\u001b[38;5;241m.\u001b[39mmeasure([\u001b[38;5;241m0\u001b[39m], [\u001b[38;5;241m0\u001b[39m])\n\u001b[0;32m----> 8\u001b[0m \u001b[43mz_expected_value\u001b[49m\u001b[43m(\u001b[49m\u001b[43mqc\u001b[49m\u001b[43m,\u001b[49m\u001b[43m \u001b[49m\u001b[38;5;241;43m0\u001b[39;49m\u001b[43m,\u001b[49m\u001b[43m \u001b[49m\u001b[43mreal_device\u001b[49m\u001b[38;5;241;43m=\u001b[39;49m\u001b[38;5;28;43;01mTrue\u001b[39;49;00m\u001b[43m)\u001b[49m\n",
      "Cell \u001b[0;32mIn[58], line 17\u001b[0m, in \u001b[0;36mz_expected_value\u001b[0;34m(qc, true_expected_value, real_device)\u001b[0m\n\u001b[1;32m     14\u001b[0m backend \u001b[38;5;241m=\u001b[39m service\u001b[38;5;241m.\u001b[39mleast_busy(operational\u001b[38;5;241m=\u001b[39m\u001b[38;5;28;01mTrue\u001b[39;00m, min_num_qubits\u001b[38;5;241m=\u001b[39m\u001b[38;5;241m1\u001b[39m)\n\u001b[1;32m     16\u001b[0m sampler \u001b[38;5;241m=\u001b[39m Sampler(mode\u001b[38;5;241m=\u001b[39mbackend)\n\u001b[0;32m---> 17\u001b[0m job \u001b[38;5;241m=\u001b[39m \u001b[43msampler\u001b[49m\u001b[38;5;241;43m.\u001b[39;49m\u001b[43mrun\u001b[49m\u001b[43m(\u001b[49m\u001b[43mqc\u001b[49m\u001b[43m,\u001b[49m\u001b[43m \u001b[49m\u001b[43mshots\u001b[49m\u001b[38;5;241;43m=\u001b[39;49m\u001b[38;5;241;43m1000\u001b[39;49m\u001b[43m)\u001b[49m\n\u001b[1;32m     18\u001b[0m result \u001b[38;5;241m=\u001b[39m job\u001b[38;5;241m.\u001b[39mresult()\n\u001b[1;32m     19\u001b[0m counts \u001b[38;5;241m=\u001b[39m result\u001b[38;5;241m.\u001b[39mquasi_dists[\u001b[38;5;241m0\u001b[39m]\n",
      "File \u001b[0;32m~/Dev/cdt/IBM/.venv/lib/python3.11/site-packages/qiskit_ibm_runtime/sampler.py:106\u001b[0m, in \u001b[0;36mSamplerV2.run\u001b[0;34m(self, pubs, shots)\u001b[0m\n\u001b[1;32m     88\u001b[0m \u001b[38;5;28;01mdef\u001b[39;00m \u001b[38;5;21mrun\u001b[39m(\u001b[38;5;28mself\u001b[39m, pubs: Iterable[SamplerPubLike], \u001b[38;5;241m*\u001b[39m, shots: \u001b[38;5;28mint\u001b[39m \u001b[38;5;241m|\u001b[39m \u001b[38;5;28;01mNone\u001b[39;00m \u001b[38;5;241m=\u001b[39m \u001b[38;5;28;01mNone\u001b[39;00m) \u001b[38;5;241m-\u001b[39m\u001b[38;5;241m>\u001b[39m RuntimeJobV2:\n\u001b[1;32m     89\u001b[0m \u001b[38;5;250m    \u001b[39m\u001b[38;5;124;03m\"\"\"Submit a request to the sampler primitive.\u001b[39;00m\n\u001b[1;32m     90\u001b[0m \n\u001b[1;32m     91\u001b[0m \u001b[38;5;124;03m    Args:\u001b[39;00m\n\u001b[0;32m   (...)\u001b[0m\n\u001b[1;32m    104\u001b[0m \u001b[38;5;124;03m        ValueError: Invalid arguments are given.\u001b[39;00m\n\u001b[1;32m    105\u001b[0m \u001b[38;5;124;03m    \"\"\"\u001b[39;00m\n\u001b[0;32m--> 106\u001b[0m     coerced_pubs \u001b[38;5;241m=\u001b[39m \u001b[43m[\u001b[49m\u001b[43mSamplerPub\u001b[49m\u001b[38;5;241;43m.\u001b[39;49m\u001b[43mcoerce\u001b[49m\u001b[43m(\u001b[49m\u001b[43mpub\u001b[49m\u001b[43m,\u001b[49m\u001b[43m \u001b[49m\u001b[43mshots\u001b[49m\u001b[43m)\u001b[49m\u001b[43m \u001b[49m\u001b[38;5;28;43;01mfor\u001b[39;49;00m\u001b[43m \u001b[49m\u001b[43mpub\u001b[49m\u001b[43m \u001b[49m\u001b[38;5;129;43;01min\u001b[39;49;00m\u001b[43m \u001b[49m\u001b[43mpubs\u001b[49m\u001b[43m]\u001b[49m\n\u001b[1;32m    108\u001b[0m     validate_classical_registers(coerced_pubs)\n\u001b[1;32m    110\u001b[0m     \u001b[38;5;28;01mreturn\u001b[39;00m \u001b[38;5;28mself\u001b[39m\u001b[38;5;241m.\u001b[39m_run(coerced_pubs)\n",
      "File \u001b[0;32m~/Dev/cdt/IBM/.venv/lib/python3.11/site-packages/qiskit_ibm_runtime/sampler.py:106\u001b[0m, in \u001b[0;36m<listcomp>\u001b[0;34m(.0)\u001b[0m\n\u001b[1;32m     88\u001b[0m \u001b[38;5;28;01mdef\u001b[39;00m \u001b[38;5;21mrun\u001b[39m(\u001b[38;5;28mself\u001b[39m, pubs: Iterable[SamplerPubLike], \u001b[38;5;241m*\u001b[39m, shots: \u001b[38;5;28mint\u001b[39m \u001b[38;5;241m|\u001b[39m \u001b[38;5;28;01mNone\u001b[39;00m \u001b[38;5;241m=\u001b[39m \u001b[38;5;28;01mNone\u001b[39;00m) \u001b[38;5;241m-\u001b[39m\u001b[38;5;241m>\u001b[39m RuntimeJobV2:\n\u001b[1;32m     89\u001b[0m \u001b[38;5;250m    \u001b[39m\u001b[38;5;124;03m\"\"\"Submit a request to the sampler primitive.\u001b[39;00m\n\u001b[1;32m     90\u001b[0m \n\u001b[1;32m     91\u001b[0m \u001b[38;5;124;03m    Args:\u001b[39;00m\n\u001b[0;32m   (...)\u001b[0m\n\u001b[1;32m    104\u001b[0m \u001b[38;5;124;03m        ValueError: Invalid arguments are given.\u001b[39;00m\n\u001b[1;32m    105\u001b[0m \u001b[38;5;124;03m    \"\"\"\u001b[39;00m\n\u001b[0;32m--> 106\u001b[0m     coerced_pubs \u001b[38;5;241m=\u001b[39m [\u001b[43mSamplerPub\u001b[49m\u001b[38;5;241;43m.\u001b[39;49m\u001b[43mcoerce\u001b[49m\u001b[43m(\u001b[49m\u001b[43mpub\u001b[49m\u001b[43m,\u001b[49m\u001b[43m \u001b[49m\u001b[43mshots\u001b[49m\u001b[43m)\u001b[49m \u001b[38;5;28;01mfor\u001b[39;00m pub \u001b[38;5;129;01min\u001b[39;00m pubs]\n\u001b[1;32m    108\u001b[0m     validate_classical_registers(coerced_pubs)\n\u001b[1;32m    110\u001b[0m     \u001b[38;5;28;01mreturn\u001b[39;00m \u001b[38;5;28mself\u001b[39m\u001b[38;5;241m.\u001b[39m_run(coerced_pubs)\n",
      "File \u001b[0;32m~/Dev/cdt/IBM/.venv/lib/python3.11/site-packages/qiskit/primitives/containers/sampler_pub.py:118\u001b[0m, in \u001b[0;36mSamplerPub.coerce\u001b[0;34m(cls, pub, shots)\u001b[0m\n\u001b[1;32m    115\u001b[0m     \u001b[38;5;28;01mreturn\u001b[39;00m \u001b[38;5;28mcls\u001b[39m(circuit\u001b[38;5;241m=\u001b[39mpub, shots\u001b[38;5;241m=\u001b[39mshots, validate\u001b[38;5;241m=\u001b[39m\u001b[38;5;28;01mTrue\u001b[39;00m)\n\u001b[1;32m    117\u001b[0m \u001b[38;5;28;01mif\u001b[39;00m \u001b[38;5;28misinstance\u001b[39m(pub, CircuitInstruction):\n\u001b[0;32m--> 118\u001b[0m     \u001b[38;5;28;01mraise\u001b[39;00m \u001b[38;5;167;01mValueError\u001b[39;00m(\n\u001b[1;32m    119\u001b[0m         \u001b[38;5;124mf\u001b[39m\u001b[38;5;124m\"\u001b[39m\u001b[38;5;124mAn invalid Sampler pub-like was given (\u001b[39m\u001b[38;5;132;01m{\u001b[39;00m\u001b[38;5;28mtype\u001b[39m(pub)\u001b[38;5;132;01m}\u001b[39;00m\u001b[38;5;124m). \u001b[39m\u001b[38;5;124m\"\u001b[39m\n\u001b[1;32m    120\u001b[0m         \u001b[38;5;124m\"\u001b[39m\u001b[38;5;124mIf you want to run a single circuit, \u001b[39m\u001b[38;5;124m\"\u001b[39m\n\u001b[1;32m    121\u001b[0m         \u001b[38;5;124m\"\u001b[39m\u001b[38;5;124myou need to wrap it with `[]` like `sampler.run([circuit])` \u001b[39m\u001b[38;5;124m\"\u001b[39m\n\u001b[1;32m    122\u001b[0m         \u001b[38;5;124m\"\u001b[39m\u001b[38;5;124minstead of `sampler.run(circuit)`.\u001b[39m\u001b[38;5;124m\"\u001b[39m\n\u001b[1;32m    123\u001b[0m     )\n\u001b[1;32m    125\u001b[0m \u001b[38;5;28;01mif\u001b[39;00m \u001b[38;5;28mlen\u001b[39m(pub) \u001b[38;5;129;01mnot\u001b[39;00m \u001b[38;5;129;01min\u001b[39;00m [\u001b[38;5;241m1\u001b[39m, \u001b[38;5;241m2\u001b[39m, \u001b[38;5;241m3\u001b[39m]:\n\u001b[1;32m    126\u001b[0m     \u001b[38;5;28;01mraise\u001b[39;00m \u001b[38;5;167;01mValueError\u001b[39;00m(\n\u001b[1;32m    127\u001b[0m         \u001b[38;5;124mf\u001b[39m\u001b[38;5;124m\"\u001b[39m\u001b[38;5;124mThe length of pub must be 1, 2 or 3, but length \u001b[39m\u001b[38;5;132;01m{\u001b[39;00m\u001b[38;5;28mlen\u001b[39m(pub)\u001b[38;5;132;01m}\u001b[39;00m\u001b[38;5;124m is given.\u001b[39m\u001b[38;5;124m\"\u001b[39m\n\u001b[1;32m    128\u001b[0m     )\n",
      "\u001b[0;31mValueError\u001b[0m: An invalid Sampler pub-like was given (<class 'qiskit._accelerate.circuit.CircuitInstruction'>). If you want to run a single circuit, you need to wrap it with `[]` like `sampler.run([circuit])` instead of `sampler.run(circuit)`."
     ]
    }
   ],
   "source": [
    "qr = QuantumRegister(1)\n",
    "cr = ClassicalRegister(1)\n",
    "qc = QuantumCircuit(qr, cr)\n",
    "\n",
    "qc.h([0])\n",
    "qc.measure([0], [0])\n",
    "\n",
    "z_expected_value(qc, 0, real_device=True)"
   ]
  },
  {
   "cell_type": "markdown",
   "metadata": {},
   "source": [
    "## Method I"
   ]
  },
  {
   "cell_type": "code",
   "execution_count": null,
   "metadata": {},
   "outputs": [],
   "source": [
    "def run_circuit_method_1(phi, theta, true_expected_value):\n",
    "    \"\"\"Calculate expectation of M using Method I.\"\"\"\n",
    "    psi = Statevector([np.cos(phi), 1j * np.sin(phi)])\n",
    "\n",
    "    U = UnitaryGate((1/np.sqrt(2))*np.array([[1,1],[np.exp(1j*theta), -np.exp(1j*theta)]]).T.conj())\n",
    "\n",
    "    qr = QuantumRegister(1)\n",
    "    cr = ClassicalRegister(1)\n",
    "    qc = QuantumCircuit(qr, cr)\n",
    "\n",
    "    qc.initialize(psi, 0)\n",
    "\n",
    "    qc.append(U, qr)\n",
    "\n",
    "    qc.measure(0, 0)\n",
    "\n",
    "    qc.draw()\n",
    "\n",
    "    z_expected_value(qc, true_expected_value)\n",
    "\n",
    "def true_answer(theta, phi):\n",
    "    \"\"\"Calculate true expected value of M.\"\"\"\n",
    "    psi = np.array([np.cos(phi), 1j * np.sin(phi)])\n",
    "    M = np.array([[0, np.exp(-theta*1j)],[np.exp(theta*1j),0]])\n",
    "    return psi.conj() @ M @ psi.T"
   ]
  },
  {
   "cell_type": "code",
   "execution_count": null,
   "metadata": {},
   "outputs": [
    {
     "name": "stdout",
     "output_type": "stream",
     "text": [
      "true_expected_value=np.complex128(8.659560562354932e-17+0j)\n",
      "Expectation value of Z: -0.000644\n",
      "expected error is 1.0e-03\n",
      "actual error is 6.4e-04\n"
     ]
    }
   ],
   "source": [
    "# Pair I\n",
    "\n",
    "phi = np.pi/2\n",
    "theta = np.pi/4\n",
    "true_expected_value = true_answer(theta, phi)\n",
    "print(f\"{true_expected_value=}\")\n",
    "\n",
    "run_circuit_method_1(phi, theta, true_expected_value)"
   ]
  },
  {
   "cell_type": "code",
   "execution_count": null,
   "metadata": {},
   "outputs": [
    {
     "name": "stdout",
     "output_type": "stream",
     "text": [
      "true_expected_value=np.complex128(0.3826834323650897+0j)\n",
      "Expectation value of Z: 0.382356\n",
      "expected error is 9.2e-04\n",
      "actual error is 3.3e-04\n"
     ]
    }
   ],
   "source": [
    "# Pair II\n",
    "\n",
    "phi = np.pi/4\n",
    "theta = np.pi/8\n",
    "true_expected_value = true_answer(theta, phi)\n",
    "print(f\"{true_expected_value=}\")\n",
    "\n",
    "run_circuit_method_1(phi, theta, true_expected_value)"
   ]
  },
  {
   "cell_type": "markdown",
   "metadata": {},
   "source": [
    "# Method II"
   ]
  },
  {
   "cell_type": "code",
   "execution_count": null,
   "metadata": {},
   "outputs": [],
   "source": [
    "def measure_X_and_Y_exps(qc: QuantumCircuit):\n",
    "    \"\"\"Measure a circuit with respect to X and Y observables.\"\"\"\n",
    "    observables = [SparsePauliOp('X'),SparsePauliOp('Y')]\n",
    "\n",
    "    estimator = Estimator(AerSimulator())\n",
    "    pub = (qc, observables)\n",
    "\n",
    "    job = estimator.run(pubs=[pub])\n",
    "    print(job.result())\n",
    "    return job.result()[0].data.evs\n",
    "\n",
    "def run_circuit_method_2(phi, theta):\n",
    "    \"\"\"Calculate expectation of M using Method II.\"\"\"\n",
    "    psi = Statevector([np.cos(phi), 1j * np.sin(phi)])\n",
    "\n",
    "    qr = QuantumRegister(1)\n",
    "    cr = ClassicalRegister(1)\n",
    "    qc = QuantumCircuit(qr, cr)\n",
    "\n",
    "    qc.initialize(psi, 0)\n",
    "\n",
    "    x_exp, y_exp = measure_X_and_Y_exps(qc)\n",
    "\n",
    "    m_exp = np.cos(theta)* x_exp + np.sin(theta)*y_exp\n",
    "    print(f\"Expected value of m: {m_exp}\")\n",
    "    "
   ]
  },
  {
   "cell_type": "code",
   "execution_count": null,
   "metadata": {},
   "outputs": [
    {
     "name": "stdout",
     "output_type": "stream",
     "text": [
      "true_expected_value=np.complex128(8.659560562354932e-17+0j)\n",
      "PrimitiveResult([PubResult(data=DataBin(evs=np.ndarray(<shape=(2,), dtype=float64>), stds=np.ndarray(<shape=(2,), dtype=float64>), shape=(2,)), metadata={'target_precision': 0.015625, 'shots': 4096, 'circuit_metadata': {}})], metadata={'version': 2})\n",
      "Expected value of m: 0.0017263349150062213\n"
     ]
    }
   ],
   "source": [
    "# Pair I\n",
    "\n",
    "phi = np.pi/2\n",
    "theta = np.pi/4\n",
    "true_expected_value = true_answer(theta, phi)\n",
    "print(f\"{true_expected_value=}\")\n",
    "\n",
    "run_circuit_method_2(phi, theta)"
   ]
  },
  {
   "cell_type": "code",
   "execution_count": null,
   "metadata": {},
   "outputs": [
    {
     "name": "stdout",
     "output_type": "stream",
     "text": [
      "true_expected_value=np.complex128(0.3826834323650897+0j)\n",
      "PrimitiveResult([PubResult(data=DataBin(evs=np.ndarray(<shape=(2,), dtype=float64>), stds=np.ndarray(<shape=(2,), dtype=float64>), shape=(2,)), metadata={'target_precision': 0.015625, 'shots': 4096, 'circuit_metadata': {}})], metadata={'version': 2})\n",
      "Expected value of m: 0.39260791953073837\n"
     ]
    }
   ],
   "source": [
    "# Pair II\n",
    "\n",
    "phi = np.pi/4\n",
    "theta = np.pi/8\n",
    "true_expected_value = true_answer(theta, phi)\n",
    "print(f\"{true_expected_value=}\")\n",
    "\n",
    "run_circuit_method_2(phi, theta)"
   ]
  },
  {
   "cell_type": "code",
   "execution_count": null,
   "metadata": {},
   "outputs": [],
   "source": []
  }
 ],
 "metadata": {
  "kernelspec": {
   "display_name": ".venv",
   "language": "python",
   "name": "python3"
  },
  "language_info": {
   "codemirror_mode": {
    "name": "ipython",
    "version": 3
   },
   "file_extension": ".py",
   "mimetype": "text/x-python",
   "name": "python",
   "nbconvert_exporter": "python",
   "pygments_lexer": "ipython3",
   "version": "3.11.6"
  }
 },
 "nbformat": 4,
 "nbformat_minor": 4
}
