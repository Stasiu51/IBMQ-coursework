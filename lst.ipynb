{
 "cells": [
  {
   "cell_type": "markdown",
   "metadata": {},
   "source": [
    "# IBM Quantum Experience Lab - Lab script"
   ]
  },
  {
   "cell_type": "markdown",
   "metadata": {},
   "source": [
    "Please use this notebook as a template for the work that you will submit for assessment for this lab exercise.\n",
    "\n",
    "Student Names: *Sara Cender, Eleanor Kneip, Stasiu Wolanski*"
   ]
  },
  {
   "cell_type": "code",
   "execution_count": 2,
   "metadata": {},
   "outputs": [
    {
     "name": "stdout",
     "output_type": "stream",
     "text": [
      "env: QXToken=656a2556246117cd382fba4bb957892cece054dad6a3102c567c2ef3ccd03b436e78e3c0529582e760cce684ff1c2c60b2e25ac01bd320e043db27d995a09f6f\n"
     ]
    }
   ],
   "source": [
    "from qiskit import QuantumRegister, ClassicalRegister, QuantumCircuit\n",
    "from qiskit.circuit.library import UnitaryGate\n",
    "from qiskit_aer import AerSimulator\n",
    "from qiskit.quantum_info import Operator, Pauli, Statevector, SparsePauliOp\n",
    "from qiskit_ibm_runtime import EstimatorV2 as Estimator\n",
    "from qiskit_ibm_runtime import QiskitRuntimeService, Session, Sampler\n",
    "import numpy as np\n",
    "\n",
    "%set_env QXToken=656a2556246117cd382fba4bb957892cece054dad6a3102c567c2ef3ccd03b436e78e3c0529582e760cce684ff1c2c60b2e25ac01bd320e043db27d995a09f6f\n"
   ]
  },
  {
   "cell_type": "markdown",
   "metadata": {
    "tags": []
   },
   "source": [
    "## Warm up exercise"
   ]
  },
  {
   "cell_type": "code",
   "execution_count": 3,
   "metadata": {},
   "outputs": [],
   "source": [
    "def z_expected_value(qc: QuantumCircuit, true_expected_value: float, real_device = False):\n",
    "    \"\"\"Calculate expectation of Z, using Aer simulator.\"\"\"\n",
    "    if not real_device:\n",
    "        shots = 1_000_000\n",
    "        backend = AerSimulator()\n",
    "        job = backend.run(qc, shots=shots)\n",
    "        result = job.result()\n",
    "        counts = result.get_counts()\n",
    "\n",
    "    else:\n",
    "        # Initialize runtime service\n",
    "        service = QiskitRuntimeService(channel=\"ibm_quantum\", token = '656a2556246117cd382fba4bb957892cece054dad6a3102c567c2ef3ccd03b436e78e3c0529582e760cce684ff1c2c60b2e25ac01bd320e043db27d995a09f6f')\n",
    "        # Choose backend (example: least busy backend with 1+ qubit)\n",
    "        backend = service.least_busy(operational=True, min_num_qubits=1)\n",
    "\n",
    "        sampler = Sampler(mode=backend)\n",
    "        job = sampler.run([qc], shots=1000)\n",
    "        result = job.result()\n",
    "        counts = result.quasi_dists[0]\n",
    "\n",
    "    # Calculate expectation value of Z\n",
    "    expectation_Z = (counts.get('0', 0) - counts.get('1', 0)) / shots\n",
    "    print(f\"Expectation value of Z: {expectation_Z}\")\n",
    "\n",
    "    print(f\"expected error is {2*np.sqrt(counts.get('0', 0) * counts.get('1', 0) / shots**3):.1e}\")\n",
    "    print(f\"actual error is {np.abs(expectation_Z - true_expected_value):.1e}\")\n",
    "    "
   ]
  },
  {
   "cell_type": "code",
   "execution_count": 4,
   "metadata": {},
   "outputs": [
    {
     "data": {
      "text/plain": [
       "<qiskit.circuit.instructionset.InstructionSet at 0x1469a3640>"
      ]
     },
     "execution_count": 4,
     "metadata": {},
     "output_type": "execute_result"
    }
   ],
   "source": [
    "qr = QuantumRegister(1)\n",
    "cr = ClassicalRegister(1)\n",
    "qc = QuantumCircuit(qr, cr)\n",
    "\n",
    "qc.h([0])\n",
    "qc.measure([0], [0])\n",
    "\n",
    "#z_expected_value(qc, 0, real_device=True)"
   ]
  },
  {
   "cell_type": "markdown",
   "metadata": {},
   "source": [
    "## Method I"
   ]
  },
  {
   "cell_type": "code",
   "execution_count": 5,
   "metadata": {},
   "outputs": [],
   "source": [
    "def run_circuit_method_1(phi, theta, true_expected_value):\n",
    "    \"\"\"Calculate expectation of M using Method I.\"\"\"\n",
    "    psi = Statevector([np.cos(phi), 1j * np.sin(phi)])\n",
    "\n",
    "    U = UnitaryGate((1/np.sqrt(2))*np.array([[1,1],[np.exp(1j*theta), -np.exp(1j*theta)]]).T.conj())\n",
    "\n",
    "    qr = QuantumRegister(1)\n",
    "    cr = ClassicalRegister(1)\n",
    "    qc = QuantumCircuit(qr, cr)\n",
    "\n",
    "    qc.initialize(psi, 0)\n",
    "\n",
    "    qc.append(U, qr)\n",
    "\n",
    "    qc.measure(0, 0)\n",
    "\n",
    "    qc.draw()\n",
    "\n",
    "    z_expected_value(qc, true_expected_value)\n",
    "\n",
    "def true_answer(theta, phi):\n",
    "    \"\"\"Calculate true expected value of M.\"\"\"\n",
    "    psi = np.array([np.cos(phi), 1j * np.sin(phi)])\n",
    "    M = np.array([[0, np.exp(-theta*1j)],[np.exp(theta*1j),0]])\n",
    "    return psi.conj() @ M @ psi.T"
   ]
  },
  {
   "cell_type": "code",
   "execution_count": 6,
   "metadata": {},
   "outputs": [
    {
     "name": "stdout",
     "output_type": "stream",
     "text": [
      "true_expected_value=np.complex128(8.659560562354932e-17+0j)\n",
      "Expectation value of Z: -0.000452\n",
      "expected error is 1.0e-03\n",
      "actual error is 4.5e-04\n"
     ]
    }
   ],
   "source": [
    "# Pair I\n",
    "\n",
    "phi = np.pi/2\n",
    "theta = np.pi/4\n",
    "true_expected_value = true_answer(theta, phi)\n",
    "print(f\"{true_expected_value=}\")\n",
    "\n",
    "run_circuit_method_1(phi, theta, true_expected_value)"
   ]
  },
  {
   "cell_type": "code",
   "execution_count": null,
   "metadata": {},
   "outputs": [
    {
     "name": "stdout",
     "output_type": "stream",
     "text": [
      "true_expected_value=np.complex128(0.3826834323650897+0j)\n",
      "Expectation value of Z: 0.382356\n",
      "expected error is 9.2e-04\n",
      "actual error is 3.3e-04\n"
     ]
    }
   ],
   "source": [
    "# Pair II\n",
    "\n",
    "phi = np.pi/4\n",
    "theta = np.pi/8\n",
    "true_expected_value = true_answer(theta, phi)\n",
    "print(f\"{true_expected_value=}\")\n",
    "\n",
    "run_circuit_method_1(phi, theta, true_expected_value)"
   ]
  },
  {
   "cell_type": "markdown",
   "metadata": {},
   "source": [
    "# Method II"
   ]
  },
  {
   "cell_type": "code",
   "execution_count": 7,
   "metadata": {},
   "outputs": [],
   "source": [
    "def measure_X_and_Y_exps(qc: QuantumCircuit):\n",
    "    \"\"\"Measure a circuit with respect to X and Y observables.\"\"\"\n",
    "    observables = [SparsePauliOp('X'),SparsePauliOp('Y')]\n",
    "\n",
    "    estimator = Estimator(AerSimulator())\n",
    "    pub = (qc, observables)\n",
    "\n",
    "    job = estimator.run(pubs=[pub])\n",
    "    print(job.result())\n",
    "    return job.result()[0].data.evs\n",
    "\n",
    "def run_circuit_method_2(phi, theta):\n",
    "    \"\"\"Calculate expectation of M using Method II.\"\"\"\n",
    "    psi = Statevector([np.cos(phi), 1j * np.sin(phi)])\n",
    "\n",
    "    qr = QuantumRegister(1)\n",
    "    cr = ClassicalRegister(1)\n",
    "    qc = QuantumCircuit(qr, cr)\n",
    "\n",
    "    qc.initialize(psi, 0)\n",
    "\n",
    "    x_exp, y_exp = measure_X_and_Y_exps(qc)\n",
    "\n",
    "    m_exp = np.cos(theta)* x_exp + np.sin(theta)*y_exp\n",
    "    print(f\"Expected value of m: {m_exp}\")\n",
    "    "
   ]
  },
  {
   "cell_type": "code",
   "execution_count": 8,
   "metadata": {},
   "outputs": [
    {
     "name": "stdout",
     "output_type": "stream",
     "text": [
      "true_expected_value=np.complex128(8.659560562354932e-17+0j)\n",
      "PrimitiveResult([PubResult(data=DataBin(evs=np.ndarray(<shape=(2,), dtype=float64>), stds=np.ndarray(<shape=(2,), dtype=float64>), shape=(2,)), metadata={'target_precision': 0.015625, 'shots': 4096, 'circuit_metadata': {}})], metadata={'version': 2})\n",
      "Expected value of m: 0.02106128596307588\n"
     ]
    }
   ],
   "source": [
    "# Pair I\n",
    "\n",
    "phi = np.pi/2\n",
    "theta = np.pi/4\n",
    "true_expected_value = true_answer(theta, phi)\n",
    "print(f\"{true_expected_value=}\")\n",
    "\n",
    "run_circuit_method_2(phi, theta)"
   ]
  },
  {
   "cell_type": "code",
   "execution_count": 9,
   "metadata": {},
   "outputs": [
    {
     "name": "stdout",
     "output_type": "stream",
     "text": [
      "true_expected_value=np.complex128(0.3826834323650897+0j)\n",
      "PrimitiveResult([PubResult(data=DataBin(evs=np.ndarray(<shape=(2,), dtype=float64>), stds=np.ndarray(<shape=(2,), dtype=float64>), shape=(2,)), metadata={'target_precision': 0.015625, 'shots': 4096, 'circuit_metadata': {}})], metadata={'version': 2})\n",
      "Expected value of m: 0.34930106644427183\n"
     ]
    }
   ],
   "source": [
    "# Pair II\n",
    "\n",
    "phi = np.pi/4\n",
    "theta = np.pi/8\n",
    "true_expected_value = true_answer(theta, phi)\n",
    "print(f\"{true_expected_value=}\")\n",
    "\n",
    "run_circuit_method_2(phi, theta)"
   ]
  },
  {
   "cell_type": "code",
   "execution_count": null,
   "metadata": {},
   "outputs": [],
   "source": []
  }
 ],
 "metadata": {
  "kernelspec": {
   "display_name": ".venv",
   "language": "python",
   "name": "python3"
  },
  "language_info": {
   "codemirror_mode": {
    "name": "ipython",
    "version": 3
   },
   "file_extension": ".py",
   "mimetype": "text/x-python",
   "name": "python",
   "nbconvert_exporter": "python",
   "pygments_lexer": "ipython3",
   "version": "3.10.15"
  }
 },
 "nbformat": 4,
 "nbformat_minor": 4
}
