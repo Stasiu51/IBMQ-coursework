{
 "cells": [
  {
   "cell_type": "code",
   "execution_count": 2,
   "metadata": {},
   "outputs": [],
   "source": [
    "import numpy as np\n",
    "import matplotlib.pyplot as plt\n",
    "from qiskit_ibm_runtime import QiskitRuntimeService\n",
    "import pandas as pd\n",
    "\n",
    "from qiskit import QuantumRegister, ClassicalRegister, QuantumCircuit\n",
    "from qiskit.circuit.library import UnitaryGate, HGate, SGate\n",
    "from qiskit_aer import AerSimulator\n",
    "from qiskit.quantum_info import Operator, Pauli, Statevector, SparsePauliOp\n",
    "from qiskit_ibm_runtime import EstimatorV2 as Estimator\n",
    "from qiskit_ibm_runtime.options import EstimatorOptions, EnvironmentOptions\n",
    "from qiskit_ibm_runtime import QiskitRuntimeService, Session, SamplerV2\n",
    "from qiskit import transpile\n",
    "from qiskit.visualization import plot_distribution\n",
    "from qiskit_ibm_runtime import SamplerV2 as Sampler\n",
    "from qiskit.transpiler.preset_passmanagers import generate_preset_pass_manager\n",
    "\n",
    "service = QiskitRuntimeService(\n",
    "    channel='ibm_quantum',\n",
    "    instance='ibm-q/open/main',\n",
    "    # token='d971f21d7a3ef5423c79cb3cee59a1a2d2ebffbe7c6814abc54679456cd3005eafb563e6c1356898c29cfc8b038279958d966dc3d726c2ef7f7f87c2f03a5849' # Sara?\n",
    "    token='656a2556246117cd382fba4bb957892cece054dad6a3102c567c2ef3ccd03b436e78e3c0529582e760cce684ff1c2c60b2e25ac01bd320e043db27d995a09f6f' # Stash\n",
    ")\n"
   ]
  },
  {
   "cell_type": "code",
   "execution_count": 3,
   "metadata": {},
   "outputs": [],
   "source": [
    "# Define parameters\n",
    "\n",
    "phi_a, phi_b = np.pi/2, np.pi/4\n",
    "theta_a, theta_b = np.pi/4, np.pi/8\n",
    "\n",
    "\n",
    "def true_expected_value(phi, theta):\n",
    "    \"\"\"Calculate true expected value of M.\"\"\"\n",
    "    psi = np.array([np.cos(phi), 1j * np.sin(phi)])\n",
    "    M = np.array([[0, np.exp(-theta*1j)], [np.exp(theta*1j), 0]])\n",
    "    return psi.conj() @ M @ psi.T\n",
    "\n",
    "\n",
    "true_ev_a = true_expected_value(phi_a, theta_a)\n",
    "true_ev_b = true_expected_value(phi_b, theta_b)\n",
    "\n",
    "\n",
    "# Helper functions\n",
    "\n",
    "def one_qubit_circuit():\n",
    "    qr = QuantumRegister(1)\n",
    "    cr = ClassicalRegister(1)\n",
    "    return QuantumCircuit(qr, cr), qr, cr\n",
    "\n",
    "\n",
    "# Define the various circuits we need\n",
    "\n",
    "def state_M(phi):\n",
    "    return Statevector([np.cos(phi), 1j * np.sin(phi)])\n",
    "\n",
    "\n",
    "def make_method_1_circuit(phi, theta) -> QuantumCircuit:\n",
    "    psi = state_M(phi)\n",
    "\n",
    "    # Unitary for measurement basis rotation\n",
    "    U = UnitaryGate(\n",
    "        (1/np.sqrt(2))*np.array([[1, 1], [np.exp(1j*theta), -np.exp(1j*theta)]]).T.conj())\n",
    "\n",
    "    qc, qr, cr = one_qubit_circuit()\n",
    "    qc.initialize(psi, 0)\n",
    "    qc.append(U, qr)\n",
    "    qc.measure(0, 0)\n",
    "\n",
    "    return qc\n",
    "\n",
    "\n",
    "def make_method_2_circuit_X(phi) -> QuantumCircuit:\n",
    "    psi = state_M(phi)\n",
    "\n",
    "    qc, qr, cr = one_qubit_circuit()\n",
    "    qc.initialize(psi, 0)\n",
    "    qc.h(qr[0])\n",
    "    qc.measure(0, 0)\n",
    "    print('draw')\n",
    "    qc.draw('mpl', filename='C2')\n",
    "    return qc\n",
    "\n",
    "\n",
    "def make_method_2_circuit_Y(phi) -> QuantumCircuit:\n",
    "    psi = state_M(phi)\n",
    "\n",
    "    qc, qr, cr = one_qubit_circuit()\n",
    "    qc.initialize(psi, 0)\n",
    "    qc.sdg(qr[0])\n",
    "    qc.h(qr[0])\n",
    "    qc.measure(0, 0)\n",
    "    qc.draw('mpl', filename='C3')\n",
    "    return qc\n",
    "\n",
    "\n",
    "# Methods for running circuits\n",
    "\n",
    "# (Little helper function)\n",
    "def clean_up_counts(counts):\n",
    "    for z in ['0', '1']:\n",
    "        if z not in counts:\n",
    "            counts[z] = 0\n",
    "    return counts\n",
    "\n",
    "\n",
    "def get_counts_using_aer(circuits, shots):\n",
    "    backend = AerSimulator()\n",
    "    sampler = SamplerV2(mode=backend)\n",
    "    job = sampler.run(circuits, shots=shots)\n",
    "    return [clean_up_counts(next(iter(result.data.values())).get_counts()) for result in job.result()]\n",
    "\n",
    "\n",
    "def get_counts_using_real_qpu(circuits, shots):\n",
    "    print(\"Selecting backend...\")\n",
    "    backend = service.least_busy(\n",
    "        operational=True, simulator=False, min_num_qubits=1)\n",
    "    print(f\"Selected backend: {backend.name}\")\n",
    "    pm = generate_preset_pass_manager(optimization_level=1, backend=backend)\n",
    "    sampler = SamplerV2(mode=backend)\n",
    "    job = sampler.run([pm.run(circuit) for circuit in circuits], shots=shots)\n",
    "    return [clean_up_counts(next(iter(result.data.values())).get_counts()) for result in job.result()]\n",
    "\n",
    "# Estimation methods\n",
    "\n",
    "\n",
    "def method_1_estimator(phi, theta, backend, shots):\n",
    "    counts = backend([make_method_1_circuit(phi, theta)], shots)[0]\n",
    "    # print((counts['0'] - counts['1'])/(counts['0'] + counts['1']))\n",
    "    return (counts['0'] - counts['1'])/(counts['0'] + counts['1'])\n",
    "\n",
    "\n",
    "def method_2_estimator(phi, theta, backend, shots):\n",
    "    counts_x, counts_y = backend([\n",
    "        make_method_2_circuit_X(phi),\n",
    "        make_method_2_circuit_Y(phi)\n",
    "    ], shots)\n",
    "    x_ev = (counts_x['0'] - counts_x['1'])/(counts_x['0'] + counts_x['1'])\n",
    "    y_ev = (counts_y['0'] - counts_y['1'])/(counts_y['0'] + counts_y['1'])\n",
    "    print(x_ev, y_ev)\n",
    "    return np.cos(theta)*x_ev + np.sin(theta)*y_ev\n",
    "\n",
    "# Bringing it all together\n",
    "\n",
    "\n",
    "def evaluate_method(estimator, backend, shots,  method_name):\n",
    "    print(f'Evaluating {method_name}...')\n",
    "    est_ev_a = estimator(phi_a, theta_a, backend, shots)\n",
    "    est_ev_b = estimator(phi_b, theta_b, backend, shots)\n",
    "    abs_error_a, abs_error_b = np.abs(\n",
    "        est_ev_a - true_ev_a), np.abs(est_ev_b - true_ev_b)\n",
    "    # Can only define this for non-zero expectation\n",
    "    perc_error_b = 100*abs_error_b/np.abs(true_ev_b)\n",
    "    print(f\"{method_name} has errors of {abs_error_a:.1e} and {np.abs(est_ev_b - true_ev_b):.1e} ({perc_error_b:.1f}%) for the two examples.\")\n",
    "    return abs_error_a, abs_error_b"
   ]
  },
  {
   "cell_type": "code",
   "execution_count": 5,
   "metadata": {},
   "outputs": [
    {
     "name": "stdout",
     "output_type": "stream",
     "text": [
      "[4.00000000e-01 3.00000000e-01 1.42857143e-01 4.54545455e-02\n",
      " 7.10382514e-02 3.43007916e-02 2.55102041e-02 1.84842884e-03\n",
      " 9.82435249e-03 1.65443821e-02 7.78642937e-03 1.04156167e-03\n",
      " 6.78747727e-03 1.26346850e-03 3.15931201e-03 1.65884900e-03\n",
      " 1.53875183e-03 5.99814790e-04 3.77410805e-04 1.24000000e-05]\n"
     ]
    },
    {
     "data": {
      "image/png": "[encoded data removed]",
      "text/plain": [
       "<Figure size 640x480 with 1 Axes>"
      ]
     },
     "metadata": {},
     "output_type": "display_data"
    }
   ],
   "source": [
    "n_shots_s = [int(10**i) for i in np.linspace(1, 7, 20)]\n",
    "error_s = np.abs(np.array([method_1_estimator(0, 0, get_counts_using_aer, n_shots) for n_shots in n_shots_s]))\n",
    "print(error_s)\n"
   ]
  },
  {
   "cell_type": "code",
   "execution_count": 25,
   "metadata": {},
   "outputs": [
    {
     "name": "stdout",
     "output_type": "stream",
     "text": [
      "-0.5389433246739697 -0.062109747024688904\n",
      "Line of best fit is |error| = 0.94 n_shots^-0.54\n"
     ]
    },
    {
     "data": {
      "image/png": "[encoded data removed]",
      "text/plain": [
       "<Figure size 640x480 with 1 Axes>"
      ]
     },
     "metadata": {},
     "output_type": "display_data"
    }
   ],
   "source": [
    "plt.plot(n_shots_s, error_s, '.')\n",
    "plt.xscale('log')\n",
    "plt.yscale('log')\n",
    "plt.xlabel('Shots')\n",
    "plt.ylabel('Error')\n",
    "a,b = np.polyfit(np.log(n_shots_s := np.array(n_shots_s)), np.log(error_s := np.array(error_s)), 1)\n",
    "print(a, b)\n",
    "plt.plot(n_shots_s, np.exp(b)*n_shots_s**a)\n",
    "print(f\"Line of best fit is |error| = {np.exp(b):.2f} n_shots^{a:.2f}\")"
   ]
  },
  {
   "cell_type": "markdown",
   "metadata": {},
   "source": [
    "## Method evaluation"
   ]
  },
  {
   "cell_type": "code",
   "execution_count": 3,
   "metadata": {},
   "outputs": [
    {
     "name": "stdout",
     "output_type": "stream",
     "text": [
      "Evaluating Method 1 with aer...\n",
      "0.008\n",
      "0.41\n",
      "Method 1 with aer has errors of 8.0e-03 and 2.7e-02 (7.1%) for the two examples.\n",
      "Evaluating Method 2 with aer...\n",
      "draw\n",
      "-0.032 0.008\n",
      "draw\n",
      "0.008 1.0\n",
      "Method 2 with aer has errors of 1.7e-02 and 7.4e-03 (1.9%) for the two examples.\n",
      "Evaluating Method 1 with real qpu...\n",
      "Selecting backend...\n",
      "Selected backend: ibm_kyiv\n",
      "-0.012\n",
      "Selecting backend...\n",
      "Selected backend: ibm_kyiv\n",
      "0.342\n",
      "Method 1 with real qpu has errors of 1.2e-02 and 4.1e-02 (10.6%) for the two examples.\n",
      "Evaluating Method 2 with real qpu...\n",
      "draw\n",
      "Selecting backend...\n",
      "Selected backend: ibm_kyiv\n",
      "0.0 0.012\n",
      "draw\n",
      "Selecting backend...\n",
      "Selected backend: ibm_kyiv\n",
      "0.046 1.0\n",
      "Method 2 with real qpu has errors of 8.5e-03 and 4.2e-02 (11.1%) for the two examples.\n"
     ]
    }
   ],
   "source": [
    "err_1_aer = evaluate_method(method_1_estimator, get_counts_using_aer, 1000, 'Method 1 with aer')\n",
    "err_2_aer = evaluate_method(method_2_estimator, get_counts_using_aer, 1000, 'Method 2 with aer')\n",
    "err_1_qpu = evaluate_method(method_1_estimator, get_counts_using_real_qpu, 1000, 'Method 1 with real qpu')\n",
    "err_2_qpu = evaluate_method(method_2_estimator, get_counts_using_real_qpu, 1000, 'Method 2 with real qpu')"
   ]
  },
  {
   "cell_type": "markdown",
   "metadata": {},
   "source": [
    "#### Sample output:\n",
    "\n",
    "Evaluating Method 1 with aer...\n",
    "\n",
    "Method 1 with aer has errors of 2.8e-02 and 3.7e-02 (9.8%) for the two examples.\n",
    "\n",
    "Evaluating Method 2 with aer...\n",
    "\n",
    "Method 2 with aer has errors of 2.8e-02 and 5.5e-03 (1.4%) for the two examples.\n",
    "\n",
    "Evaluating Method 1 with real qpu...\n",
    "\n",
    "Selecting backend...\n",
    "\n",
    "Selected backend: ibm_kyiv\n",
    "\n",
    "Selecting backend...\n",
    "\n",
    "Selected backend: ibm_kyiv\n",
    "\n",
    "Method 1 with real qpu has errors of 4.0e-03 and 2.9e-02 (7.7%) for the two examples.\n",
    "\n",
    "Evaluating Method 2 with real qpu...\n",
    "\n",
    "Selecting backend...\n",
    "\n",
    "Selected backend: ibm_kyiv\n",
    "\n",
    "Selecting backend...\n",
    "\n",
    "Selected backend: ibm_kyiv\n",
    "\n",
    "Method 2 with real qpu has errors of 1.4e-02 and 3.2e-02 (8.3%) for the two examples."
   ]
  },
  {
   "cell_type": "code",
   "execution_count": 4,
   "metadata": {},
   "outputs": [
    {
     "data": {
      "text/plain": [
       "Text(0, 0.5, 'Absolute error from true EV')"
      ]
     },
     "execution_count": 4,
     "metadata": {},
     "output_type": "execute_result"
    },
    {
     "data": {
      "image/png": "[encoded data removed]",
      "text/plain": [
       "<Figure size 640x480 with 1 Axes>"
      ]
     },
     "metadata": {},
     "output_type": "display_data"
    }
   ],
   "source": [
    "# Plot errors for various methods\n",
    "plt.bar(['Method 1, AER', 'Method 1, QPU', 'Method 2, AER', 'Method 2, QPU'],\n",
    "         [(a+b)/2 for a,b in [err_1_aer, err_1_qpu, err_2_aer, err_2_qpu]])\n",
    "plt.ylabel('Absolute error from true EV')"
   ]
  },
  {
   "cell_type": "code",
   "execution_count": null,
   "metadata": {},
   "outputs": [],
   "source": []
  }
 ],
 "metadata": {
  "kernelspec": {
   "display_name": ".venv",
   "language": "python",
   "name": "python3"
  },
  "language_info": {
   "codemirror_mode": {
    "name": "ipython",
    "version": 3
   },
   "file_extension": ".py",
   "mimetype": "text/x-python",
   "name": "python",
   "nbconvert_exporter": "python",
   "pygments_lexer": "ipython3",
   "version": "3.11.6"
  }
 },
 "nbformat": 4,
 "nbformat_minor": 2
}
